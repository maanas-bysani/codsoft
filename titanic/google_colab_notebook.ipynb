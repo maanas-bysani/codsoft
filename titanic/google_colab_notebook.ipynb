{
  "nbformat": 4,
  "nbformat_minor": 0,
  "metadata": {
    "colab": {
      "provenance": []
    },
    "kernelspec": {
      "name": "python3",
      "display_name": "Python 3"
    },
    "language_info": {
      "name": "python"
    }
  },
  "cells": [
    {
      "cell_type": "code",
      "execution_count": 1,
      "metadata": {
        "colab": {
          "base_uri": "https://localhost:8080/"
        },
        "id": "HLHVja5QJZFe",
        "outputId": "a93578c1-b2d0-4198-96a7-29e02c788b45"
      },
      "outputs": [
        {
          "output_type": "stream",
          "name": "stdout",
          "text": [
            "Mounted at /content/drive\n"
          ]
        }
      ],
      "source": [
        "from google.colab import drive\n",
        "drive.mount('/content/drive')"
      ]
    },
    {
      "cell_type": "code",
      "source": [
        "from google.colab import files\n",
        "uploaded = files.upload()\n"
      ],
      "metadata": {
        "colab": {
          "base_uri": "https://localhost:8080/",
          "height": 108
        },
        "id": "7E5KDQqRJi1Z",
        "outputId": "1166b4e9-b37a-47dc-c668-8afa93083885"
      },
      "execution_count": 4,
      "outputs": [
        {
          "output_type": "display_data",
          "data": {
            "text/plain": [
              "<IPython.core.display.HTML object>"
            ],
            "text/html": [
              "\n",
              "     <input type=\"file\" id=\"files-5700fb37-2577-4f00-9720-006f4da62dd7\" name=\"files[]\" multiple disabled\n",
              "        style=\"border:none\" />\n",
              "     <output id=\"result-5700fb37-2577-4f00-9720-006f4da62dd7\">\n",
              "      Upload widget is only available when the cell has been executed in the\n",
              "      current browser session. Please rerun this cell to enable.\n",
              "      </output>\n",
              "      <script>// Copyright 2017 Google LLC\n",
              "//\n",
              "// Licensed under the Apache License, Version 2.0 (the \"License\");\n",
              "// you may not use this file except in compliance with the License.\n",
              "// You may obtain a copy of the License at\n",
              "//\n",
              "//      http://www.apache.org/licenses/LICENSE-2.0\n",
              "//\n",
              "// Unless required by applicable law or agreed to in writing, software\n",
              "// distributed under the License is distributed on an \"AS IS\" BASIS,\n",
              "// WITHOUT WARRANTIES OR CONDITIONS OF ANY KIND, either express or implied.\n",
              "// See the License for the specific language governing permissions and\n",
              "// limitations under the License.\n",
              "\n",
              "/**\n",
              " * @fileoverview Helpers for google.colab Python module.\n",
              " */\n",
              "(function(scope) {\n",
              "function span(text, styleAttributes = {}) {\n",
              "  const element = document.createElement('span');\n",
              "  element.textContent = text;\n",
              "  for (const key of Object.keys(styleAttributes)) {\n",
              "    element.style[key] = styleAttributes[key];\n",
              "  }\n",
              "  return element;\n",
              "}\n",
              "\n",
              "// Max number of bytes which will be uploaded at a time.\n",
              "const MAX_PAYLOAD_SIZE = 100 * 1024;\n",
              "\n",
              "function _uploadFiles(inputId, outputId) {\n",
              "  const steps = uploadFilesStep(inputId, outputId);\n",
              "  const outputElement = document.getElementById(outputId);\n",
              "  // Cache steps on the outputElement to make it available for the next call\n",
              "  // to uploadFilesContinue from Python.\n",
              "  outputElement.steps = steps;\n",
              "\n",
              "  return _uploadFilesContinue(outputId);\n",
              "}\n",
              "\n",
              "// This is roughly an async generator (not supported in the browser yet),\n",
              "// where there are multiple asynchronous steps and the Python side is going\n",
              "// to poll for completion of each step.\n",
              "// This uses a Promise to block the python side on completion of each step,\n",
              "// then passes the result of the previous step as the input to the next step.\n",
              "function _uploadFilesContinue(outputId) {\n",
              "  const outputElement = document.getElementById(outputId);\n",
              "  const steps = outputElement.steps;\n",
              "\n",
              "  const next = steps.next(outputElement.lastPromiseValue);\n",
              "  return Promise.resolve(next.value.promise).then((value) => {\n",
              "    // Cache the last promise value to make it available to the next\n",
              "    // step of the generator.\n",
              "    outputElement.lastPromiseValue = value;\n",
              "    return next.value.response;\n",
              "  });\n",
              "}\n",
              "\n",
              "/**\n",
              " * Generator function which is called between each async step of the upload\n",
              " * process.\n",
              " * @param {string} inputId Element ID of the input file picker element.\n",
              " * @param {string} outputId Element ID of the output display.\n",
              " * @return {!Iterable<!Object>} Iterable of next steps.\n",
              " */\n",
              "function* uploadFilesStep(inputId, outputId) {\n",
              "  const inputElement = document.getElementById(inputId);\n",
              "  inputElement.disabled = false;\n",
              "\n",
              "  const outputElement = document.getElementById(outputId);\n",
              "  outputElement.innerHTML = '';\n",
              "\n",
              "  const pickedPromise = new Promise((resolve) => {\n",
              "    inputElement.addEventListener('change', (e) => {\n",
              "      resolve(e.target.files);\n",
              "    });\n",
              "  });\n",
              "\n",
              "  const cancel = document.createElement('button');\n",
              "  inputElement.parentElement.appendChild(cancel);\n",
              "  cancel.textContent = 'Cancel upload';\n",
              "  const cancelPromise = new Promise((resolve) => {\n",
              "    cancel.onclick = () => {\n",
              "      resolve(null);\n",
              "    };\n",
              "  });\n",
              "\n",
              "  // Wait for the user to pick the files.\n",
              "  const files = yield {\n",
              "    promise: Promise.race([pickedPromise, cancelPromise]),\n",
              "    response: {\n",
              "      action: 'starting',\n",
              "    }\n",
              "  };\n",
              "\n",
              "  cancel.remove();\n",
              "\n",
              "  // Disable the input element since further picks are not allowed.\n",
              "  inputElement.disabled = true;\n",
              "\n",
              "  if (!files) {\n",
              "    return {\n",
              "      response: {\n",
              "        action: 'complete',\n",
              "      }\n",
              "    };\n",
              "  }\n",
              "\n",
              "  for (const file of files) {\n",
              "    const li = document.createElement('li');\n",
              "    li.append(span(file.name, {fontWeight: 'bold'}));\n",
              "    li.append(span(\n",
              "        `(${file.type || 'n/a'}) - ${file.size} bytes, ` +\n",
              "        `last modified: ${\n",
              "            file.lastModifiedDate ? file.lastModifiedDate.toLocaleDateString() :\n",
              "                                    'n/a'} - `));\n",
              "    const percent = span('0% done');\n",
              "    li.appendChild(percent);\n",
              "\n",
              "    outputElement.appendChild(li);\n",
              "\n",
              "    const fileDataPromise = new Promise((resolve) => {\n",
              "      const reader = new FileReader();\n",
              "      reader.onload = (e) => {\n",
              "        resolve(e.target.result);\n",
              "      };\n",
              "      reader.readAsArrayBuffer(file);\n",
              "    });\n",
              "    // Wait for the data to be ready.\n",
              "    let fileData = yield {\n",
              "      promise: fileDataPromise,\n",
              "      response: {\n",
              "        action: 'continue',\n",
              "      }\n",
              "    };\n",
              "\n",
              "    // Use a chunked sending to avoid message size limits. See b/62115660.\n",
              "    let position = 0;\n",
              "    do {\n",
              "      const length = Math.min(fileData.byteLength - position, MAX_PAYLOAD_SIZE);\n",
              "      const chunk = new Uint8Array(fileData, position, length);\n",
              "      position += length;\n",
              "\n",
              "      const base64 = btoa(String.fromCharCode.apply(null, chunk));\n",
              "      yield {\n",
              "        response: {\n",
              "          action: 'append',\n",
              "          file: file.name,\n",
              "          data: base64,\n",
              "        },\n",
              "      };\n",
              "\n",
              "      let percentDone = fileData.byteLength === 0 ?\n",
              "          100 :\n",
              "          Math.round((position / fileData.byteLength) * 100);\n",
              "      percent.textContent = `${percentDone}% done`;\n",
              "\n",
              "    } while (position < fileData.byteLength);\n",
              "  }\n",
              "\n",
              "  // All done.\n",
              "  yield {\n",
              "    response: {\n",
              "      action: 'complete',\n",
              "    }\n",
              "  };\n",
              "}\n",
              "\n",
              "scope.google = scope.google || {};\n",
              "scope.google.colab = scope.google.colab || {};\n",
              "scope.google.colab._files = {\n",
              "  _uploadFiles,\n",
              "  _uploadFilesContinue,\n",
              "};\n",
              "})(self);\n",
              "</script> "
            ]
          },
          "metadata": {}
        },
        {
          "output_type": "stream",
          "name": "stdout",
          "text": [
            "Saving test.csv to test (1).csv\n",
            "Saving train.csv to train (1).csv\n"
          ]
        }
      ]
    },
    {
      "cell_type": "code",
      "source": [
        "pip install lazypredict"
      ],
      "metadata": {
        "colab": {
          "base_uri": "https://localhost:8080/"
        },
        "id": "PmRBk0AkKSO7",
        "outputId": "ef0b0685-003f-4d62-c274-c27d202357b0"
      },
      "execution_count": 7,
      "outputs": [
        {
          "output_type": "stream",
          "name": "stdout",
          "text": [
            "Collecting lazypredict\n",
            "  Downloading lazypredict-0.2.12-py2.py3-none-any.whl (12 kB)\n",
            "Requirement already satisfied: click in /usr/local/lib/python3.10/dist-packages (from lazypredict) (8.1.6)\n",
            "Requirement already satisfied: scikit-learn in /usr/local/lib/python3.10/dist-packages (from lazypredict) (1.2.2)\n",
            "Requirement already satisfied: pandas in /usr/local/lib/python3.10/dist-packages (from lazypredict) (1.5.3)\n",
            "Requirement already satisfied: tqdm in /usr/local/lib/python3.10/dist-packages (from lazypredict) (4.65.0)\n",
            "Requirement already satisfied: joblib in /usr/local/lib/python3.10/dist-packages (from lazypredict) (1.3.1)\n",
            "Requirement already satisfied: lightgbm in /usr/local/lib/python3.10/dist-packages (from lazypredict) (3.3.5)\n",
            "Requirement already satisfied: xgboost in /usr/local/lib/python3.10/dist-packages (from lazypredict) (1.7.6)\n",
            "Requirement already satisfied: wheel in /usr/local/lib/python3.10/dist-packages (from lightgbm->lazypredict) (0.41.0)\n",
            "Requirement already satisfied: numpy in /usr/local/lib/python3.10/dist-packages (from lightgbm->lazypredict) (1.23.5)\n",
            "Requirement already satisfied: scipy in /usr/local/lib/python3.10/dist-packages (from lightgbm->lazypredict) (1.10.1)\n",
            "Requirement already satisfied: threadpoolctl>=2.0.0 in /usr/local/lib/python3.10/dist-packages (from scikit-learn->lazypredict) (3.2.0)\n",
            "Requirement already satisfied: python-dateutil>=2.8.1 in /usr/local/lib/python3.10/dist-packages (from pandas->lazypredict) (2.8.2)\n",
            "Requirement already satisfied: pytz>=2020.1 in /usr/local/lib/python3.10/dist-packages (from pandas->lazypredict) (2022.7.1)\n",
            "Requirement already satisfied: six>=1.5 in /usr/local/lib/python3.10/dist-packages (from python-dateutil>=2.8.1->pandas->lazypredict) (1.16.0)\n",
            "Installing collected packages: lazypredict\n",
            "Successfully installed lazypredict-0.2.12\n"
          ]
        }
      ]
    },
    {
      "cell_type": "code",
      "source": [
        "import io\n",
        "import pandas as pd\n",
        "import warnings\n",
        "warnings.filterwarnings('ignore')\n",
        "import numpy as np\n",
        "import lazypredict\n",
        "from sklearn import metrics\n",
        "from sklearn.model_selection import train_test_split\n",
        "from sklearn.metrics import accuracy_score\n",
        "\n",
        "df = pd.read_csv(io.BytesIO(uploaded['train (1).csv']))\n",
        "# Dataset is now stored in a Pandas Dataframe"
      ],
      "metadata": {
        "id": "GF9H9pQHJ7W-"
      },
      "execution_count": 9,
      "outputs": []
    },
    {
      "cell_type": "code",
      "source": [
        "print(df)"
      ],
      "metadata": {
        "colab": {
          "base_uri": "https://localhost:8080/"
        },
        "id": "PfrtG3P_KRov",
        "outputId": "e341b6ae-6107-45da-fd52-9bed34bdb254"
      },
      "execution_count": 10,
      "outputs": [
        {
          "output_type": "stream",
          "name": "stdout",
          "text": [
            "     PassengerId  Survived  Pclass  \\\n",
            "0              1         0       3   \n",
            "1              2         1       1   \n",
            "2              3         1       3   \n",
            "3              4         1       1   \n",
            "4              5         0       3   \n",
            "..           ...       ...     ...   \n",
            "886          887         0       2   \n",
            "887          888         1       1   \n",
            "888          889         0       3   \n",
            "889          890         1       1   \n",
            "890          891         0       3   \n",
            "\n",
            "                                                  Name     Sex   Age  SibSp  \\\n",
            "0                              Braund, Mr. Owen Harris    male  22.0      1   \n",
            "1    Cumings, Mrs. John Bradley (Florence Briggs Th...  female  38.0      1   \n",
            "2                               Heikkinen, Miss. Laina  female  26.0      0   \n",
            "3         Futrelle, Mrs. Jacques Heath (Lily May Peel)  female  35.0      1   \n",
            "4                             Allen, Mr. William Henry    male  35.0      0   \n",
            "..                                                 ...     ...   ...    ...   \n",
            "886                              Montvila, Rev. Juozas    male  27.0      0   \n",
            "887                       Graham, Miss. Margaret Edith  female  19.0      0   \n",
            "888           Johnston, Miss. Catherine Helen \"Carrie\"  female   NaN      1   \n",
            "889                              Behr, Mr. Karl Howell    male  26.0      0   \n",
            "890                                Dooley, Mr. Patrick    male  32.0      0   \n",
            "\n",
            "     Parch            Ticket     Fare Cabin Embarked  \n",
            "0        0         A/5 21171   7.2500   NaN        S  \n",
            "1        0          PC 17599  71.2833   C85        C  \n",
            "2        0  STON/O2. 3101282   7.9250   NaN        S  \n",
            "3        0            113803  53.1000  C123        S  \n",
            "4        0            373450   8.0500   NaN        S  \n",
            "..     ...               ...      ...   ...      ...  \n",
            "886      0            211536  13.0000   NaN        S  \n",
            "887      0            112053  30.0000   B42        S  \n",
            "888      2        W./C. 6607  23.4500   NaN        S  \n",
            "889      0            111369  30.0000  C148        C  \n",
            "890      0            370376   7.7500   NaN        Q  \n",
            "\n",
            "[891 rows x 12 columns]\n"
          ]
        }
      ]
    },
    {
      "cell_type": "code",
      "source": [
        "x=df.drop(['PassengerId','Name','Survived','Cabin','Embarked','Fare', 'Ticket'],axis=1)\n",
        "print(x.head())\n",
        "y=df[\"Survived\"]\n",
        "print(y)"
      ],
      "metadata": {
        "colab": {
          "base_uri": "https://localhost:8080/"
        },
        "id": "omkhI6fWKb8e",
        "outputId": "321472db-965f-43ba-aab6-3a656febef6d"
      },
      "execution_count": 11,
      "outputs": [
        {
          "output_type": "stream",
          "name": "stdout",
          "text": [
            "   Pclass     Sex   Age  SibSp  Parch\n",
            "0       3    male  22.0      1      0\n",
            "1       1  female  38.0      1      0\n",
            "2       3  female  26.0      0      0\n",
            "3       1  female  35.0      1      0\n",
            "4       3    male  35.0      0      0\n",
            "0      0\n",
            "1      1\n",
            "2      1\n",
            "3      1\n",
            "4      0\n",
            "      ..\n",
            "886    0\n",
            "887    1\n",
            "888    0\n",
            "889    1\n",
            "890    0\n",
            "Name: Survived, Length: 891, dtype: int64\n"
          ]
        }
      ]
    },
    {
      "cell_type": "code",
      "source": [
        "from sklearn.model_selection import train_test_split\n",
        "from lazypredict.Supervised import LazyClassifier\n",
        "X_train, X_test, y_train, y_test = train_test_split(x, y, train_size=0.8, random_state=0)\n",
        "clf = LazyClassifier(verbose=0,ignore_warnings=True, custom_metric=None)\n",
        "\n",
        "import pandas as pd\n",
        "train,test= clf.fit(X_train, X_test, y_train, y_test)\n",
        "print(train)"
      ],
      "metadata": {
        "colab": {
          "base_uri": "https://localhost:8080/"
        },
        "id": "a2Lr7lBwKfLQ",
        "outputId": "2f13ac91-9be0-4965-e56e-db789ef1e32a"
      },
      "execution_count": 21,
      "outputs": [
        {
          "output_type": "stream",
          "name": "stderr",
          "text": [
            "100%|██████████| 29/29 [00:01<00:00, 27.38it/s]"
          ]
        },
        {
          "output_type": "stream",
          "name": "stdout",
          "text": [
            "                               Accuracy  Balanced Accuracy  ROC AUC  F1 Score  \\\n",
            "Model                                                                           \n",
            "AdaBoostClassifier                 0.82               0.81     0.81      0.82   \n",
            "ExtraTreesClassifier               0.82               0.80     0.80      0.82   \n",
            "RandomForestClassifier             0.82               0.80     0.80      0.82   \n",
            "LGBMClassifier                     0.82               0.80     0.80      0.82   \n",
            "ExtraTreeClassifier                0.83               0.80     0.80      0.82   \n",
            "XGBClassifier                      0.82               0.80     0.80      0.82   \n",
            "LogisticRegression                 0.80               0.79     0.79      0.80   \n",
            "SVC                                0.81               0.79     0.79      0.81   \n",
            "BaggingClassifier                  0.81               0.79     0.79      0.81   \n",
            "NearestCentroid                    0.78               0.79     0.79      0.78   \n",
            "NuSVC                              0.80               0.78     0.78      0.80   \n",
            "SGDClassifier                      0.79               0.78     0.78      0.79   \n",
            "LabelPropagation                   0.80               0.78     0.78      0.80   \n",
            "CalibratedClassifierCV             0.79               0.78     0.78      0.79   \n",
            "LabelSpreading                     0.79               0.78     0.78      0.79   \n",
            "BernoulliNB                        0.79               0.77     0.77      0.79   \n",
            "KNeighborsClassifier               0.80               0.77     0.77      0.79   \n",
            "LinearSVC                          0.79               0.77     0.77      0.79   \n",
            "GaussianNB                         0.79               0.77     0.77      0.79   \n",
            "DecisionTreeClassifier             0.79               0.77     0.77      0.79   \n",
            "RidgeClassifier                    0.78               0.76     0.76      0.78   \n",
            "RidgeClassifierCV                  0.78               0.76     0.76      0.78   \n",
            "LinearDiscriminantAnalysis         0.78               0.76     0.76      0.78   \n",
            "PassiveAggressiveClassifier        0.73               0.74     0.74      0.74   \n",
            "Perceptron                         0.70               0.68     0.68      0.70   \n",
            "QuadraticDiscriminantAnalysis      0.61               0.50     0.50      0.47   \n",
            "DummyClassifier                    0.61               0.50     0.50      0.47   \n",
            "\n",
            "                               Time Taken  \n",
            "Model                                      \n",
            "AdaBoostClassifier                   0.10  \n",
            "ExtraTreesClassifier                 0.13  \n",
            "RandomForestClassifier               0.14  \n",
            "LGBMClassifier                       0.04  \n",
            "ExtraTreeClassifier                  0.02  \n",
            "XGBClassifier                        0.06  \n",
            "LogisticRegression                   0.02  \n",
            "SVC                                  0.03  \n",
            "BaggingClassifier                    0.03  \n",
            "NearestCentroid                      0.03  \n",
            "NuSVC                                0.03  \n",
            "SGDClassifier                        0.02  \n",
            "LabelPropagation                     0.03  \n",
            "CalibratedClassifierCV               0.11  \n",
            "LabelSpreading                       0.03  \n",
            "BernoulliNB                          0.02  \n",
            "KNeighborsClassifier                 0.02  \n",
            "LinearSVC                            0.05  \n",
            "GaussianNB                           0.02  \n",
            "DecisionTreeClassifier               0.02  \n",
            "RidgeClassifier                      0.02  \n",
            "RidgeClassifierCV                    0.02  \n",
            "LinearDiscriminantAnalysis           0.02  \n",
            "PassiveAggressiveClassifier          0.02  \n",
            "Perceptron                           0.01  \n",
            "QuadraticDiscriminantAnalysis        0.01  \n",
            "DummyClassifier                      0.01  \n"
          ]
        },
        {
          "output_type": "stream",
          "name": "stderr",
          "text": [
            "\n"
          ]
        }
      ]
    },
    {
      "cell_type": "code",
      "source": [
        "from lazypredict.Supervised import LazyRegressor\n",
        "reg = LazyRegressor(verbose=0, ignore_warnings=False, custom_metric=None)\n",
        "models, predictions = reg.fit(X_train, X_test, y_train, y_test)\n",
        "print(models)\n"
      ],
      "metadata": {
        "colab": {
          "base_uri": "https://localhost:8080/"
        },
        "id": "IvR1kJZsKwjt",
        "outputId": "90988ee8-d41c-4cb4-c9cf-51d0ba4d1d01"
      },
      "execution_count": 16,
      "outputs": [
        {
          "output_type": "stream",
          "name": "stderr",
          "text": [
            " 24%|██▍       | 10/42 [00:00<00:01, 27.08it/s]"
          ]
        },
        {
          "output_type": "stream",
          "name": "stdout",
          "text": [
            "GammaRegressor model failed to execute\n",
            "Some value(s) of y are out of the valid range of the loss 'HalfGammaLoss'.\n"
          ]
        },
        {
          "output_type": "stream",
          "name": "stderr",
          "text": [
            "100%|██████████| 42/42 [00:07<00:00,  5.85it/s]"
          ]
        },
        {
          "output_type": "stream",
          "name": "stdout",
          "text": [
            "                               Adjusted R-Squared  R-Squared   RMSE  \\\n",
            "Model                                                                 \n",
            "AdaBoostRegressor                            0.47       0.49   0.35   \n",
            "GradientBoostingRegressor                    0.47       0.48   0.35   \n",
            "LGBMRegressor                                0.44       0.46   0.36   \n",
            "HistGradientBoostingRegressor                0.44       0.45   0.36   \n",
            "MLPRegressor                                 0.43       0.45   0.36   \n",
            "SGDRegressor                                 0.41       0.42   0.37   \n",
            "KernelRidge                                  0.40       0.42   0.37   \n",
            "LinearRegression                             0.40       0.42   0.37   \n",
            "TransformedTargetRegressor                   0.40       0.42   0.37   \n",
            "LarsCV                                       0.40       0.42   0.37   \n",
            "Lars                                         0.40       0.42   0.37   \n",
            "LassoLarsCV                                  0.40       0.42   0.37   \n",
            "LassoCV                                      0.40       0.42   0.37   \n",
            "Ridge                                        0.40       0.42   0.37   \n",
            "RidgeCV                                      0.40       0.42   0.37   \n",
            "ElasticNetCV                                 0.40       0.42   0.37   \n",
            "BayesianRidge                                0.40       0.42   0.37   \n",
            "OrthogonalMatchingPursuitCV                  0.40       0.42   0.37   \n",
            "LassoLarsIC                                  0.40       0.42   0.37   \n",
            "RandomForestRegressor                        0.37       0.39   0.38   \n",
            "ExtraTreesRegressor                          0.36       0.38   0.38   \n",
            "SVR                                          0.35       0.37   0.39   \n",
            "KNeighborsRegressor                          0.34       0.36   0.39   \n",
            "BaggingRegressor                             0.32       0.34   0.40   \n",
            "XGBRegressor                                 0.29       0.31   0.40   \n",
            "NuSVR                                        0.27       0.29   0.41   \n",
            "ExtraTreeRegressor                           0.27       0.29   0.41   \n",
            "TweedieRegressor                             0.24       0.26   0.42   \n",
            "DecisionTreeRegressor                        0.20       0.22   0.43   \n",
            "OrthogonalMatchingPursuit                    0.15       0.17   0.44   \n",
            "PoissonRegressor                             0.13       0.15   0.45   \n",
            "HuberRegressor                               0.08       0.10   0.46   \n",
            "LinearSVR                                    0.08       0.10   0.46   \n",
            "PassiveAggressiveRegressor                   0.02       0.05   0.48   \n",
            "DummyRegressor                              -0.03      -0.00   0.49   \n",
            "LassoLars                                   -0.03      -0.00   0.49   \n",
            "ElasticNet                                  -0.03      -0.00   0.49   \n",
            "Lasso                                       -0.03      -0.00   0.49   \n",
            "QuantileRegressor                           -0.67      -0.63   0.62   \n",
            "RANSACRegressor                             -0.67      -0.63   0.62   \n",
            "GaussianProcessRegressor               -178653.60 -173635.21 202.81   \n",
            "\n",
            "                               Time Taken  \n",
            "Model                                      \n",
            "AdaBoostRegressor                    0.03  \n",
            "GradientBoostingRegressor            0.15  \n",
            "LGBMRegressor                        0.04  \n",
            "HistGradientBoostingRegressor        0.84  \n",
            "MLPRegressor                         0.21  \n",
            "SGDRegressor                         0.01  \n",
            "KernelRidge                          0.04  \n",
            "LinearRegression                     0.01  \n",
            "TransformedTargetRegressor           0.01  \n",
            "LarsCV                               0.05  \n",
            "Lars                                 0.03  \n",
            "LassoLarsCV                          0.02  \n",
            "LassoCV                              0.05  \n",
            "Ridge                                0.01  \n",
            "RidgeCV                              0.01  \n",
            "ElasticNetCV                         0.06  \n",
            "BayesianRidge                        0.01  \n",
            "OrthogonalMatchingPursuitCV          0.01  \n",
            "LassoLarsIC                          0.01  \n",
            "RandomForestRegressor                0.13  \n",
            "ExtraTreesRegressor                  0.13  \n",
            "SVR                                  0.03  \n",
            "KNeighborsRegressor                  0.01  \n",
            "BaggingRegressor                     0.03  \n",
            "XGBRegressor                         0.05  \n",
            "NuSVR                                0.11  \n",
            "ExtraTreeRegressor                   0.01  \n",
            "TweedieRegressor                     0.01  \n",
            "DecisionTreeRegressor                0.01  \n",
            "OrthogonalMatchingPursuit            0.01  \n",
            "PoissonRegressor                     0.01  \n",
            "HuberRegressor                       0.04  \n",
            "LinearSVR                            0.02  \n",
            "PassiveAggressiveRegressor           0.01  \n",
            "DummyRegressor                       0.01  \n",
            "LassoLars                            0.01  \n",
            "ElasticNet                           0.02  \n",
            "Lasso                                0.02  \n",
            "QuantileRegressor                    4.63  \n",
            "RANSACRegressor                      0.15  \n",
            "GaussianProcessRegressor             0.07  \n"
          ]
        },
        {
          "output_type": "stream",
          "name": "stderr",
          "text": [
            "\n"
          ]
        }
      ]
    }
  ]
}